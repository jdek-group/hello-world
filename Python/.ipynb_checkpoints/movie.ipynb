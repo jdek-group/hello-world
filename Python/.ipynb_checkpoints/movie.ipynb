{
 "cells": [
  {
   "cell_type": "code",
   "execution_count": 1,
   "id": "6493cf5f-1d0d-4f69-b036-a0190cfb04bb",
   "metadata": {},
   "outputs": [
    {
     "name": "stdout",
     "output_type": "stream",
     "text": [
      "Requirement already satisfied: opendatasets in c:\\users\\vj162\\anaconda3\\lib\\site-packages (0.1.22)\n",
      "Requirement already satisfied: tqdm in c:\\users\\vj162\\anaconda3\\lib\\site-packages (from opendatasets) (4.66.4)\n",
      "Requirement already satisfied: kaggle in c:\\users\\vj162\\anaconda3\\lib\\site-packages (from opendatasets) (1.6.17)\n",
      "Requirement already satisfied: click in c:\\users\\vj162\\anaconda3\\lib\\site-packages (from opendatasets) (8.1.7)\n",
      "Requirement already satisfied: colorama in c:\\users\\vj162\\anaconda3\\lib\\site-packages (from click->opendatasets) (0.4.6)\n",
      "Requirement already satisfied: six>=1.10 in c:\\users\\vj162\\anaconda3\\lib\\site-packages (from kaggle->opendatasets) (1.16.0)\n",
      "Requirement already satisfied: certifi>=2023.7.22 in c:\\users\\vj162\\anaconda3\\lib\\site-packages (from kaggle->opendatasets) (2024.7.4)\n",
      "Requirement already satisfied: python-dateutil in c:\\users\\vj162\\anaconda3\\lib\\site-packages (from kaggle->opendatasets) (2.9.0.post0)\n",
      "Requirement already satisfied: requests in c:\\users\\vj162\\anaconda3\\lib\\site-packages (from kaggle->opendatasets) (2.32.2)\n",
      "Requirement already satisfied: python-slugify in c:\\users\\vj162\\anaconda3\\lib\\site-packages (from kaggle->opendatasets) (5.0.2)\n",
      "Requirement already satisfied: urllib3 in c:\\users\\vj162\\anaconda3\\lib\\site-packages (from kaggle->opendatasets) (2.2.2)\n",
      "Requirement already satisfied: bleach in c:\\users\\vj162\\anaconda3\\lib\\site-packages (from kaggle->opendatasets) (4.1.0)\n",
      "Requirement already satisfied: packaging in c:\\users\\vj162\\anaconda3\\lib\\site-packages (from bleach->kaggle->opendatasets) (23.2)\n",
      "Requirement already satisfied: webencodings in c:\\users\\vj162\\anaconda3\\lib\\site-packages (from bleach->kaggle->opendatasets) (0.5.1)\n",
      "Requirement already satisfied: text-unidecode>=1.3 in c:\\users\\vj162\\anaconda3\\lib\\site-packages (from python-slugify->kaggle->opendatasets) (1.3)\n",
      "Requirement already satisfied: charset-normalizer<4,>=2 in c:\\users\\vj162\\anaconda3\\lib\\site-packages (from requests->kaggle->opendatasets) (2.0.4)\n",
      "Requirement already satisfied: idna<4,>=2.5 in c:\\users\\vj162\\anaconda3\\lib\\site-packages (from requests->kaggle->opendatasets) (3.7)\n"
     ]
    }
   ],
   "source": [
    "#install important libraries\n",
    "!pip install opendatasets"
   ]
  },
  {
   "cell_type": "code",
   "execution_count": 2,
   "id": "49beecf4-6a8a-466a-bfe5-21562aee32fe",
   "metadata": {},
   "outputs": [],
   "source": [
    "import opendatasets as od"
   ]
  },
  {
   "cell_type": "code",
   "execution_count": 3,
   "id": "1fd3bac5-07a3-4ee5-abbb-925ae2868b42",
   "metadata": {},
   "outputs": [],
   "source": [
    "dataset = \"https://www.kaggle.com/datasets/amansingh0000000/imdb-250-web-show\""
   ]
  },
  {
   "cell_type": "code",
   "execution_count": 4,
   "id": "5540ece4-92ae-4cd6-8f60-8e5b61f76de9",
   "metadata": {},
   "outputs": [
    {
     "name": "stdout",
     "output_type": "stream",
     "text": [
      "Skipping, found downloaded files in \".\\imdb-250-web-show\" (use force=True to force download)\n"
     ]
    }
   ],
   "source": [
    "od.download(dataset)"
   ]
  },
  {
   "cell_type": "code",
   "execution_count": 5,
   "id": "e7b8e4d4-231b-4086-bfc3-64439086799c",
   "metadata": {},
   "outputs": [],
   "source": [
    "import os"
   ]
  },
  {
   "cell_type": "code",
   "execution_count": 6,
   "id": "e7e49a7c-eb78-4d54-bbf9-8d42f4b7c9b7",
   "metadata": {},
   "outputs": [],
   "source": [
    "data_dir = \"./imdb-250-web-show\""
   ]
  },
  {
   "cell_type": "code",
   "execution_count": 7,
   "id": "e0c92707-43b3-4840-ad2e-ccd93cd96aa8",
   "metadata": {},
   "outputs": [
    {
     "data": {
      "text/plain": [
       "['web-show 250.csv']"
      ]
     },
     "execution_count": 7,
     "metadata": {},
     "output_type": "execute_result"
    }
   ],
   "source": [
    "os.listdir(data_dir)"
   ]
  },
  {
   "cell_type": "code",
   "execution_count": 15,
   "id": "decdb207-b4a9-40c3-b833-342424c4f761",
   "metadata": {},
   "outputs": [],
   "source": [
    "import pandas as pd"
   ]
  },
  {
   "cell_type": "code",
   "execution_count": 17,
   "id": "53edc656-0491-4a21-886f-a67c44ead8cd",
   "metadata": {},
   "outputs": [],
   "source": [
    "movie_df = pd.read_csv('web-show 250.csv')"
   ]
  },
  {
   "cell_type": "code",
   "execution_count": 19,
   "id": "6cb31cff-fc34-4639-85fd-84ed84c370fc",
   "metadata": {},
   "outputs": [
    {
     "data": {
      "text/html": [
       "<div>\n",
       "<style scoped>\n",
       "    .dataframe tbody tr th:only-of-type {\n",
       "        vertical-align: middle;\n",
       "    }\n",
       "\n",
       "    .dataframe tbody tr th {\n",
       "        vertical-align: top;\n",
       "    }\n",
       "\n",
       "    .dataframe thead th {\n",
       "        text-align: right;\n",
       "    }\n",
       "</style>\n",
       "<table border=\"1\" class=\"dataframe\">\n",
       "  <thead>\n",
       "    <tr style=\"text-align: right;\">\n",
       "      <th></th>\n",
       "      <th>Unnamed: 0</th>\n",
       "      <th>names</th>\n",
       "      <th>relese_date</th>\n",
       "      <th>run_time</th>\n",
       "      <th>rating_tag</th>\n",
       "      <th>rating</th>\n",
       "    </tr>\n",
       "  </thead>\n",
       "  <tbody>\n",
       "    <tr>\n",
       "      <th>0</th>\n",
       "      <td>0</td>\n",
       "      <td>1 Breaking Bad</td>\n",
       "      <td>2008–2013</td>\n",
       "      <td>62 eps</td>\n",
       "      <td>TV-MA</td>\n",
       "      <td>9.5</td>\n",
       "    </tr>\n",
       "    <tr>\n",
       "      <th>1</th>\n",
       "      <td>1</td>\n",
       "      <td>2 Planet Earth II</td>\n",
       "      <td>2016</td>\n",
       "      <td>6 eps</td>\n",
       "      <td>TV-G</td>\n",
       "      <td>9.5</td>\n",
       "    </tr>\n",
       "    <tr>\n",
       "      <th>2</th>\n",
       "      <td>2</td>\n",
       "      <td>3 Planet Earth</td>\n",
       "      <td>2006</td>\n",
       "      <td>11 eps</td>\n",
       "      <td>TV-PG</td>\n",
       "      <td>9.4</td>\n",
       "    </tr>\n",
       "    <tr>\n",
       "      <th>3</th>\n",
       "      <td>3</td>\n",
       "      <td>4 Band of Brothers</td>\n",
       "      <td>2001</td>\n",
       "      <td>10 eps</td>\n",
       "      <td>TV-MA</td>\n",
       "      <td>9.4</td>\n",
       "    </tr>\n",
       "    <tr>\n",
       "      <th>4</th>\n",
       "      <td>4</td>\n",
       "      <td>5 Chernobyl</td>\n",
       "      <td>2019</td>\n",
       "      <td>5 eps</td>\n",
       "      <td>TV-MA</td>\n",
       "      <td>9.3</td>\n",
       "    </tr>\n",
       "    <tr>\n",
       "      <th>...</th>\n",
       "      <td>...</td>\n",
       "      <td>...</td>\n",
       "      <td>...</td>\n",
       "      <td>...</td>\n",
       "      <td>...</td>\n",
       "      <td>...</td>\n",
       "    </tr>\n",
       "    <tr>\n",
       "      <th>245</th>\n",
       "      <td>245</td>\n",
       "      <td>21 The Vietnam War</td>\n",
       "      <td>2017</td>\n",
       "      <td>10 eps</td>\n",
       "      <td>TV-MA</td>\n",
       "      <td>9.1</td>\n",
       "    </tr>\n",
       "    <tr>\n",
       "      <th>246</th>\n",
       "      <td>246</td>\n",
       "      <td>22 Sherlock</td>\n",
       "      <td>2010–2017</td>\n",
       "      <td>15 eps</td>\n",
       "      <td>TV-14</td>\n",
       "      <td>9.1</td>\n",
       "    </tr>\n",
       "    <tr>\n",
       "      <th>247</th>\n",
       "      <td>247</td>\n",
       "      <td>23 Attack on Titan</td>\n",
       "      <td>2013–2023</td>\n",
       "      <td>98 eps</td>\n",
       "      <td>TV-MA</td>\n",
       "      <td>9.1</td>\n",
       "    </tr>\n",
       "    <tr>\n",
       "      <th>248</th>\n",
       "      <td>248</td>\n",
       "      <td>24 Batman: The Animated Series</td>\n",
       "      <td>1992–1995</td>\n",
       "      <td>85 eps</td>\n",
       "      <td>TV-PG</td>\n",
       "      <td>9.0</td>\n",
       "    </tr>\n",
       "    <tr>\n",
       "      <th>249</th>\n",
       "      <td>249</td>\n",
       "      <td>25 The Office</td>\n",
       "      <td>2005–2013</td>\n",
       "      <td>188 eps</td>\n",
       "      <td>TV-14</td>\n",
       "      <td>9.0</td>\n",
       "    </tr>\n",
       "  </tbody>\n",
       "</table>\n",
       "<p>250 rows × 6 columns</p>\n",
       "</div>"
      ],
      "text/plain": [
       "     Unnamed: 0                           names relese_date run_time  \\\n",
       "0             0                  1 Breaking Bad   2008–2013   62 eps   \n",
       "1             1               2 Planet Earth II        2016    6 eps   \n",
       "2             2                  3 Planet Earth        2006   11 eps   \n",
       "3             3              4 Band of Brothers        2001   10 eps   \n",
       "4             4                     5 Chernobyl        2019    5 eps   \n",
       "..          ...                             ...         ...      ...   \n",
       "245         245              21 The Vietnam War        2017   10 eps   \n",
       "246         246                     22 Sherlock   2010–2017   15 eps   \n",
       "247         247              23 Attack on Titan   2013–2023   98 eps   \n",
       "248         248  24 Batman: The Animated Series   1992–1995   85 eps   \n",
       "249         249                   25 The Office   2005–2013  188 eps   \n",
       "\n",
       "    rating_tag  rating  \n",
       "0        TV-MA     9.5  \n",
       "1         TV-G     9.5  \n",
       "2        TV-PG     9.4  \n",
       "3        TV-MA     9.4  \n",
       "4        TV-MA     9.3  \n",
       "..         ...     ...  \n",
       "245      TV-MA     9.1  \n",
       "246      TV-14     9.1  \n",
       "247      TV-MA     9.1  \n",
       "248      TV-PG     9.0  \n",
       "249      TV-14     9.0  \n",
       "\n",
       "[250 rows x 6 columns]"
      ]
     },
     "execution_count": 19,
     "metadata": {},
     "output_type": "execute_result"
    }
   ],
   "source": [
    "movie_df"
   ]
  },
  {
   "cell_type": "code",
   "execution_count": 21,
   "id": "12a826e3-4a61-4247-979b-2f3b7c3b7c06",
   "metadata": {},
   "outputs": [
    {
     "name": "stdout",
     "output_type": "stream",
     "text": [
      "Requirement already satisfied: psycopg2 in c:\\users\\vj162\\anaconda3\\lib\\site-packages (2.9.9)\n",
      "Requirement already satisfied: sqlalchemy in c:\\users\\vj162\\anaconda3\\lib\\site-packages (2.0.30)\n",
      "Requirement already satisfied: typing-extensions>=4.6.0 in c:\\users\\vj162\\anaconda3\\lib\\site-packages (from sqlalchemy) (4.11.0)\n",
      "Requirement already satisfied: greenlet!=0.4.17 in c:\\users\\vj162\\anaconda3\\lib\\site-packages (from sqlalchemy) (3.0.1)\n"
     ]
    }
   ],
   "source": [
    "!pip install psycopg2\n",
    "!pip install sqlalchemy"
   ]
  },
  {
   "cell_type": "code",
   "execution_count": 23,
   "id": "82f89f8a-94c7-457e-8571-ec0c23ec21d4",
   "metadata": {},
   "outputs": [],
   "source": [
    "import psycopg2"
   ]
  },
  {
   "cell_type": "code",
   "execution_count": 25,
   "id": "0931ef4c-c3cb-4329-b92f-d646edd0ef6b",
   "metadata": {},
   "outputs": [
    {
     "name": "stdout",
     "output_type": "stream",
     "text": [
      "   Unnamed: 0               names relese_date run_time rating_tag  rating\n",
      "0           0      1 Breaking Bad   2008–2013   62 eps      TV-MA     9.5\n",
      "1           1   2 Planet Earth II        2016    6 eps       TV-G     9.5\n",
      "2           2      3 Planet Earth        2006   11 eps      TV-PG     9.4\n",
      "3           3  4 Band of Brothers        2001   10 eps      TV-MA     9.4\n",
      "4           4         5 Chernobyl        2019    5 eps      TV-MA     9.3\n",
      "Data successfully loaded into table 'web_show'.\n"
     ]
    }
   ],
   "source": [
    "from sqlalchemy import create_engine\n",
    "\n",
    "print(movie_df.head())\n",
    "\n",
    "\n",
    "# Database connection details\n",
    "dbname = 'imdb'\n",
    "user = 'postgres'\n",
    "password = 'admin'    #your admin password\n",
    "host = 'localhost'\n",
    "port = '5432'\n",
    "\n",
    "# Create SQLAlchemy engine\n",
    "engine = create_engine(f'postgresql://{user}:{password}@{host}:{port}/{dbname}')\n",
    "\n",
    "table_name = 'web_show'\n",
    "\n",
    "# Load DataFrame into PostgreSQL\n",
    "movie_df.to_sql(table_name, engine, if_exists='replace', index=False)\n",
    "\n",
    "print(f\"Data successfully loaded into table '{table_name}'.\")"
   ]
  },
  {
   "cell_type": "code",
   "execution_count": null,
   "id": "55d8523d-ac8b-48a1-a82c-55053fd4ae3c",
   "metadata": {},
   "outputs": [],
   "source": []
  }
 ],
 "metadata": {
  "kernelspec": {
   "display_name": "Python 3 (ipykernel)",
   "language": "python",
   "name": "python3"
  },
  "language_info": {
   "codemirror_mode": {
    "name": "ipython",
    "version": 3
   },
   "file_extension": ".py",
   "mimetype": "text/x-python",
   "name": "python",
   "nbconvert_exporter": "python",
   "pygments_lexer": "ipython3",
   "version": "3.12.4"
  }
 },
 "nbformat": 4,
 "nbformat_minor": 5
}
