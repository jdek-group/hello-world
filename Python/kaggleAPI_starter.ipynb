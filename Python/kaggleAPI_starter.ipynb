{
 "cells": [
  {
   "cell_type": "code",
   "execution_count": 7,
   "id": "a06f99c7",
   "metadata": {},
   "outputs": [
    {
     "name": "stderr",
     "output_type": "stream",
     "text": [
      "ERROR: Could not find a version that satisfies the requirement zipfile (from versions: none)\n",
      "ERROR: No matching distribution found for zipfile\n"
     ]
    },
    {
     "name": "stdout",
     "output_type": "stream",
     "text": [
      "Requirement already satisfied: kaggle in c:\\users\\user\\anaconda3\\lib\\site-packages (1.6.6)\n",
      "Requirement already satisfied: six>=1.10 in c:\\users\\user\\anaconda3\\lib\\site-packages (from kaggle) (1.16.0)\n",
      "Requirement already satisfied: certifi in c:\\users\\user\\anaconda3\\lib\\site-packages (from kaggle) (2024.7.4)\n",
      "Requirement already satisfied: python-dateutil in c:\\users\\user\\anaconda3\\lib\\site-packages (from kaggle) (2.8.2)\n",
      "Requirement already satisfied: requests in c:\\users\\user\\anaconda3\\lib\\site-packages (from kaggle) (2.31.0)\n",
      "Requirement already satisfied: tqdm in c:\\users\\user\\anaconda3\\lib\\site-packages (from kaggle) (4.65.0)\n",
      "Requirement already satisfied: python-slugify in c:\\users\\user\\anaconda3\\lib\\site-packages (from kaggle) (5.0.2)\n",
      "Requirement already satisfied: urllib3 in c:\\users\\user\\anaconda3\\lib\\site-packages (from kaggle) (1.26.16)\n",
      "Requirement already satisfied: bleach in c:\\users\\user\\anaconda3\\lib\\site-packages (from kaggle) (4.1.0)\n",
      "Requirement already satisfied: packaging in c:\\users\\user\\anaconda3\\lib\\site-packages (from bleach->kaggle) (23.1)\n",
      "Requirement already satisfied: webencodings in c:\\users\\user\\anaconda3\\lib\\site-packages (from bleach->kaggle) (0.5.1)\n",
      "Requirement already satisfied: text-unidecode>=1.3 in c:\\users\\user\\anaconda3\\lib\\site-packages (from python-slugify->kaggle) (1.3)\n",
      "Requirement already satisfied: charset-normalizer<4,>=2 in c:\\users\\user\\anaconda3\\lib\\site-packages (from requests->kaggle) (2.0.4)\n",
      "Requirement already satisfied: idna<4,>=2.5 in c:\\users\\user\\anaconda3\\lib\\site-packages (from requests->kaggle) (3.4)\n",
      "Requirement already satisfied: colorama in c:\\users\\user\\anaconda3\\lib\\site-packages (from tqdm->kaggle) (0.4.6)\n"
     ]
    }
   ],
   "source": [
    "# Uncomment the pip install code below if you haven't installed these libraries yet\n",
    "# !pip install pandas\n",
    "!pip install zipfile\n",
    "!pip install kaggle"
   ]
  },
  {
   "cell_type": "code",
   "execution_count": 8,
   "id": "fb6a4a30",
   "metadata": {},
   "outputs": [],
   "source": [
    "import pandas as pd\n",
    "import zipfile\n",
    "import kaggle"
   ]
  },
  {
   "cell_type": "code",
   "execution_count": 36,
   "id": "cf910bde",
   "metadata": {},
   "outputs": [],
   "source": [
    "#chmod 600 '/Users/User/.kaggle/kaggle.json'"
   ]
  },
  {
   "cell_type": "code",
   "execution_count": 10,
   "id": "fb7ff9f7",
   "metadata": {},
   "outputs": [
    {
     "name": "stdout",
     "output_type": "stream",
     "text": [
      "Downloading movielens-20m-dataset.zip to D:\\A Career 2024 - Generation Application\\A JDE04 MSTEAM\\Interim Stellar Steer Project\\hello-world\\Python\n",
      "\n"
     ]
    },
    {
     "name": "stderr",
     "output_type": "stream",
     "text": [
      "\n",
      "  0%|          | 0.00/195M [00:00<?, ?B/s]\n",
      "  1%|          | 1.00M/195M [00:00<03:01, 1.12MB/s]\n",
      "  1%|1         | 2.00M/195M [00:01<01:36, 2.09MB/s]\n",
      "  2%|1         | 3.00M/195M [00:01<01:07, 2.99MB/s]\n",
      "  2%|2         | 4.00M/195M [00:01<00:56, 3.53MB/s]\n",
      "  3%|2         | 5.00M/195M [00:01<00:45, 4.37MB/s]\n",
      "  3%|3         | 6.00M/195M [00:01<00:39, 4.98MB/s]\n",
      "  4%|3         | 7.00M/195M [00:01<00:34, 5.78MB/s]\n",
      "  4%|4         | 8.00M/195M [00:02<00:34, 5.69MB/s]\n",
      "  5%|4         | 9.00M/195M [00:02<00:29, 6.57MB/s]\n",
      "  5%|5         | 10.0M/195M [00:02<00:29, 6.52MB/s]\n",
      "  6%|5         | 11.0M/195M [00:02<00:30, 6.41MB/s]\n",
      "  6%|6         | 12.0M/195M [00:02<00:27, 6.94MB/s]\n",
      "  7%|6         | 13.0M/195M [00:02<00:26, 7.32MB/s]\n",
      "  7%|7         | 14.0M/195M [00:02<00:26, 7.15MB/s]\n",
      "  8%|7         | 15.0M/195M [00:03<00:26, 7.20MB/s]\n",
      "  8%|8         | 16.0M/195M [00:03<00:27, 6.74MB/s]\n",
      "  9%|8         | 17.0M/195M [00:03<00:28, 6.66MB/s]\n",
      "  9%|9         | 18.0M/195M [00:03<00:28, 6.53MB/s]\n",
      " 10%|9         | 19.0M/195M [00:03<00:26, 6.90MB/s]\n",
      " 10%|#         | 20.0M/195M [00:03<00:28, 6.38MB/s]\n",
      " 11%|#1        | 22.0M/195M [00:04<00:24, 7.45MB/s]\n",
      " 12%|#1        | 23.0M/195M [00:04<00:23, 7.60MB/s]\n",
      " 12%|#2        | 24.0M/195M [00:04<00:24, 7.45MB/s]\n",
      " 13%|#2        | 25.0M/195M [00:04<00:26, 6.69MB/s]\n",
      " 13%|#3        | 26.0M/195M [00:04<00:26, 6.71MB/s]\n",
      " 14%|#3        | 27.0M/195M [00:05<00:30, 5.75MB/s]\n",
      " 14%|#4        | 28.0M/195M [00:05<00:28, 6.09MB/s]\n",
      " 15%|#4        | 29.0M/195M [00:05<00:27, 6.45MB/s]\n",
      " 15%|#5        | 30.0M/195M [00:05<00:26, 6.48MB/s]\n",
      " 16%|#5        | 31.0M/195M [00:05<00:27, 6.16MB/s]\n",
      " 16%|#6        | 32.0M/195M [00:05<00:28, 5.92MB/s]\n",
      " 17%|#6        | 33.0M/195M [00:06<00:33, 5.08MB/s]\n",
      " 17%|#7        | 34.0M/195M [00:06<00:31, 5.31MB/s]\n",
      " 18%|#7        | 35.0M/195M [00:06<00:28, 5.84MB/s]\n",
      " 18%|#8        | 36.0M/195M [00:06<00:26, 6.32MB/s]\n",
      " 19%|#8        | 37.0M/195M [00:06<00:26, 6.20MB/s]\n",
      " 19%|#9        | 38.0M/195M [00:06<00:25, 6.38MB/s]\n",
      " 20%|#9        | 39.0M/195M [00:07<00:24, 6.60MB/s]\n",
      " 20%|##        | 40.0M/195M [00:07<00:23, 7.06MB/s]\n",
      " 21%|##        | 41.0M/195M [00:07<00:20, 7.74MB/s]\n",
      " 21%|##1       | 42.0M/195M [00:07<00:19, 8.13MB/s]\n",
      " 23%|##2       | 44.0M/195M [00:07<00:20, 7.69MB/s]\n",
      " 23%|##3       | 45.0M/195M [00:07<00:20, 7.64MB/s]\n",
      " 24%|##3       | 46.0M/195M [00:07<00:19, 8.10MB/s]\n",
      " 24%|##4       | 47.0M/195M [00:08<00:19, 8.09MB/s]\n",
      " 25%|##4       | 48.0M/195M [00:08<00:22, 6.76MB/s]\n",
      " 25%|##5       | 49.0M/195M [00:08<00:22, 6.83MB/s]\n",
      " 26%|##5       | 50.0M/195M [00:08<00:21, 6.96MB/s]\n",
      " 26%|##6       | 51.0M/195M [00:08<00:21, 7.11MB/s]\n",
      " 27%|##6       | 52.0M/195M [00:08<00:20, 7.31MB/s]\n",
      " 27%|##7       | 53.0M/195M [00:08<00:19, 7.81MB/s]\n",
      " 28%|##7       | 54.0M/195M [00:09<00:17, 8.39MB/s]\n",
      " 28%|##8       | 55.0M/195M [00:09<00:17, 8.46MB/s]\n",
      " 29%|##8       | 56.0M/195M [00:09<00:16, 8.61MB/s]\n",
      " 29%|##9       | 57.0M/195M [00:09<00:17, 8.14MB/s]\n",
      " 30%|##9       | 58.0M/195M [00:09<00:17, 8.27MB/s]\n",
      " 30%|###       | 59.0M/195M [00:09<00:18, 7.82MB/s]\n",
      " 31%|###1      | 61.0M/195M [00:09<00:16, 8.77MB/s]\n",
      " 32%|###1      | 62.0M/195M [00:10<00:19, 7.31MB/s]\n",
      " 32%|###2      | 63.0M/195M [00:10<00:20, 6.72MB/s]\n",
      " 33%|###2      | 64.0M/195M [00:10<00:20, 6.85MB/s]\n",
      " 33%|###3      | 65.0M/195M [00:10<00:18, 7.22MB/s]\n",
      " 34%|###3      | 66.0M/195M [00:10<00:18, 7.32MB/s]\n",
      " 34%|###4      | 67.0M/195M [00:10<00:18, 7.36MB/s]\n",
      " 35%|###4      | 68.0M/195M [00:11<00:17, 7.70MB/s]\n",
      " 35%|###5      | 69.0M/195M [00:11<00:16, 7.80MB/s]\n",
      " 36%|###5      | 70.0M/195M [00:11<00:16, 7.78MB/s]\n",
      " 36%|###6      | 71.0M/195M [00:11<00:15, 8.36MB/s]\n",
      " 37%|###6      | 72.0M/195M [00:11<00:16, 8.08MB/s]\n",
      " 37%|###7      | 73.0M/195M [00:11<00:16, 7.68MB/s]\n",
      " 38%|###7      | 74.0M/195M [00:11<00:17, 7.16MB/s]\n",
      " 38%|###8      | 75.0M/195M [00:12<00:18, 6.67MB/s]\n",
      " 39%|###8      | 76.0M/195M [00:12<00:17, 7.18MB/s]\n",
      " 39%|###9      | 77.0M/195M [00:12<00:17, 7.25MB/s]\n",
      " 40%|###9      | 78.0M/195M [00:12<00:20, 6.04MB/s]\n",
      " 40%|####      | 79.0M/195M [00:12<00:18, 6.76MB/s]\n",
      " 41%|####      | 80.0M/195M [00:12<00:19, 6.26MB/s]\n",
      " 42%|####1     | 82.0M/195M [00:12<00:13, 8.89MB/s]\n",
      " 42%|####2     | 83.0M/195M [00:13<00:12, 9.23MB/s]\n",
      " 43%|####2     | 84.0M/195M [00:13<00:12, 9.19MB/s]\n",
      " 43%|####3     | 85.0M/195M [00:13<00:13, 8.46MB/s]\n",
      " 44%|####3     | 86.0M/195M [00:13<00:14, 7.86MB/s]\n",
      " 45%|####4     | 87.0M/195M [00:13<00:13, 8.12MB/s]\n",
      " 45%|####5     | 88.0M/195M [00:13<00:14, 7.97MB/s]\n",
      " 46%|####5     | 89.0M/195M [00:13<00:13, 8.45MB/s]\n",
      " 46%|####6     | 90.0M/195M [00:13<00:12, 8.65MB/s]\n",
      " 47%|####6     | 91.0M/195M [00:14<00:13, 8.32MB/s]\n",
      " 47%|####7     | 92.0M/195M [00:14<00:13, 8.05MB/s]\n",
      " 48%|####7     | 93.0M/195M [00:14<00:12, 8.30MB/s]\n",
      " 48%|####8     | 94.0M/195M [00:14<00:12, 8.56MB/s]\n",
      " 49%|####8     | 95.0M/195M [00:14<00:12, 8.78MB/s]\n",
      " 49%|####9     | 96.0M/195M [00:14<00:11, 8.85MB/s]\n",
      " 50%|####9     | 97.0M/195M [00:14<00:12, 8.49MB/s]\n",
      " 50%|#####     | 98.0M/195M [00:14<00:12, 8.42MB/s]\n",
      " 51%|#####     | 99.0M/195M [00:15<00:11, 8.59MB/s]\n",
      " 51%|#####1    | 100M/195M [00:15<00:11, 8.39MB/s] \n",
      " 52%|#####1    | 101M/195M [00:15<00:11, 8.49MB/s]\n",
      " 53%|#####2    | 103M/195M [00:15<00:10, 9.41MB/s]\n",
      " 53%|#####3    | 104M/195M [00:15<00:11, 8.69MB/s]\n",
      " 54%|#####3    | 105M/195M [00:15<00:10, 8.66MB/s]\n",
      " 54%|#####4    | 106M/195M [00:15<00:11, 8.43MB/s]\n",
      " 55%|#####4    | 107M/195M [00:16<00:10, 8.63MB/s]\n",
      " 55%|#####5    | 108M/195M [00:16<00:11, 8.23MB/s]\n",
      " 56%|#####5    | 109M/195M [00:16<00:11, 7.60MB/s]\n",
      " 56%|#####6    | 110M/195M [00:16<00:13, 6.84MB/s]\n",
      " 57%|#####7    | 112M/195M [00:16<00:11, 7.75MB/s]\n",
      " 58%|#####7    | 113M/195M [00:16<00:11, 7.42MB/s]\n",
      " 58%|#####8    | 114M/195M [00:17<00:11, 7.40MB/s]\n",
      " 59%|#####8    | 115M/195M [00:17<00:11, 7.29MB/s]\n",
      " 59%|#####9    | 116M/195M [00:17<00:10, 7.60MB/s]\n",
      " 60%|#####9    | 117M/195M [00:17<00:10, 7.62MB/s]\n",
      " 60%|######    | 118M/195M [00:17<00:10, 7.58MB/s]\n",
      " 61%|######    | 119M/195M [00:17<00:11, 7.07MB/s]\n",
      " 61%|######1   | 120M/195M [00:17<00:10, 7.23MB/s]\n",
      " 62%|######2   | 122M/195M [00:18<00:09, 8.45MB/s]\n",
      " 63%|######2   | 123M/195M [00:18<00:09, 7.94MB/s]\n",
      " 63%|######3   | 124M/195M [00:18<00:09, 8.20MB/s]\n",
      " 64%|######3   | 125M/195M [00:18<00:08, 8.54MB/s]\n",
      " 64%|######4   | 126M/195M [00:18<00:08, 8.44MB/s]\n",
      " 65%|######4   | 127M/195M [00:18<00:08, 8.54MB/s]\n",
      " 65%|######5   | 128M/195M [00:18<00:10, 6.90MB/s]\n",
      " 66%|######5   | 129M/195M [00:19<00:10, 6.90MB/s]\n",
      " 67%|######6   | 130M/195M [00:19<00:09, 7.09MB/s]\n",
      " 67%|######7   | 131M/195M [00:19<00:08, 7.72MB/s]\n",
      " 68%|######7   | 132M/195M [00:19<00:08, 8.10MB/s]\n",
      " 68%|######8   | 133M/195M [00:19<00:07, 8.50MB/s]\n",
      " 69%|######8   | 134M/195M [00:19<00:07, 8.85MB/s]\n",
      " 69%|######9   | 135M/195M [00:19<00:06, 9.13MB/s]\n",
      " 70%|######9   | 136M/195M [00:19<00:06, 9.11MB/s]\n",
      " 70%|#######   | 137M/195M [00:20<00:06, 9.23MB/s]\n",
      " 71%|#######   | 138M/195M [00:20<00:06, 8.81MB/s]\n",
      " 71%|#######1  | 139M/195M [00:20<00:06, 8.72MB/s]\n",
      " 72%|#######2  | 141M/195M [00:20<00:06, 8.42MB/s]\n",
      " 73%|#######2  | 142M/195M [00:20<00:07, 7.56MB/s]\n",
      " 73%|#######3  | 143M/195M [00:20<00:06, 8.14MB/s]\n",
      " 74%|#######3  | 144M/195M [00:20<00:06, 8.45MB/s]\n",
      " 75%|#######4  | 146M/195M [00:21<00:05, 9.23MB/s]\n",
      " 75%|#######5  | 147M/195M [00:21<00:05, 9.50MB/s]\n",
      " 76%|#######5  | 148M/195M [00:21<00:05, 9.49MB/s]\n",
      " 76%|#######6  | 149M/195M [00:21<00:05, 9.59MB/s]\n",
      " 77%|#######6  | 150M/195M [00:21<00:05, 9.16MB/s]\n",
      " 77%|#######7  | 151M/195M [00:21<00:05, 9.04MB/s]\n",
      " 78%|#######7  | 152M/195M [00:21<00:04, 9.30MB/s]\n",
      " 78%|#######8  | 153M/195M [00:21<00:04, 9.11MB/s]\n",
      " 79%|#######8  | 154M/195M [00:22<00:04, 9.33MB/s]\n",
      " 79%|#######9  | 155M/195M [00:22<00:04, 9.47MB/s]\n",
      " 80%|########  | 157M/195M [00:22<00:04, 9.46MB/s]\n",
      " 81%|########  | 158M/195M [00:22<00:04, 9.60MB/s]\n",
      " 81%|########1 | 159M/195M [00:22<00:04, 9.27MB/s]\n",
      " 82%|########1 | 160M/195M [00:22<00:04, 8.85MB/s]\n",
      " 82%|########2 | 161M/195M [00:22<00:04, 8.10MB/s]\n",
      " 83%|########3 | 163M/195M [00:23<00:03, 9.46MB/s]\n",
      " 84%|########3 | 164M/195M [00:23<00:03, 9.52MB/s]\n",
      " 84%|########4 | 165M/195M [00:23<00:03, 8.67MB/s]\n",
      " 85%|########4 | 166M/195M [00:23<00:03, 7.92MB/s]\n",
      " 85%|########5 | 167M/195M [00:23<00:04, 7.34MB/s]\n",
      " 86%|########5 | 168M/195M [00:23<00:04, 6.99MB/s]\n",
      " 86%|########6 | 169M/195M [00:23<00:03, 7.46MB/s]\n",
      " 87%|########6 | 170M/195M [00:24<00:03, 7.39MB/s]\n",
      " 87%|########7 | 171M/195M [00:24<00:03, 7.65MB/s]\n",
      " 88%|########7 | 172M/195M [00:24<00:03, 8.07MB/s]\n",
      " 89%|########8 | 173M/195M [00:24<00:02, 8.39MB/s]\n",
      " 89%|########9 | 174M/195M [00:24<00:03, 7.49MB/s]\n",
      " 90%|########9 | 175M/195M [00:24<00:02, 7.68MB/s]\n",
      " 90%|######### | 176M/195M [00:24<00:02, 7.92MB/s]\n",
      " 91%|######### | 177M/195M [00:25<00:02, 7.88MB/s]\n",
      " 91%|#########1| 178M/195M [00:25<00:02, 8.22MB/s]\n",
      " 92%|#########1| 179M/195M [00:25<00:02, 8.32MB/s]\n",
      " 92%|#########2| 180M/195M [00:25<00:01, 8.76MB/s]\n",
      " 93%|#########2| 181M/195M [00:25<00:01, 8.97MB/s]\n",
      " 93%|#########3| 182M/195M [00:25<00:01, 9.17MB/s]\n",
      " 94%|#########3| 183M/195M [00:25<00:01, 8.16MB/s]\n",
      " 94%|#########4| 184M/195M [00:25<00:01, 6.55MB/s]\n",
      " 95%|#########4| 185M/195M [00:26<00:01, 6.89MB/s]\n",
      " 95%|#########5| 186M/195M [00:26<00:01, 7.02MB/s]\n",
      " 96%|#########5| 187M/195M [00:26<00:01, 7.64MB/s]\n",
      " 97%|#########6| 189M/195M [00:26<00:00, 8.78MB/s]\n",
      " 97%|#########7| 190M/195M [00:26<00:00, 9.12MB/s]\n",
      " 98%|#########8| 192M/195M [00:26<00:00, 10.2MB/s]\n",
      " 99%|#########8| 193M/195M [00:26<00:00, 10.2MB/s]\n",
      " 99%|#########9| 194M/195M [00:27<00:00, 10.0MB/s]\n",
      "100%|#########9| 195M/195M [00:27<00:00, 9.42MB/s]\n",
      "100%|##########| 195M/195M [00:27<00:00, 7.53MB/s]\n"
     ]
    }
   ],
   "source": [
    "!kaggle datasets download -d grouplens/movielens-20m-dataset"
   ]
  },
  {
   "cell_type": "code",
   "execution_count": 12,
   "id": "e0a2b2c9",
   "metadata": {},
   "outputs": [],
   "source": [
    "# extracting the file from the downloaded zip file\n",
    "zipfile_name = 'movielens-20m-dataset.zip'\n",
    "with zipfile.ZipFile(zipfile_name, 'r') as file:\n",
    "    file.extractall()"
   ]
  },
  {
   "cell_type": "code",
   "execution_count": 40,
   "id": "9e0d1086",
   "metadata": {},
   "outputs": [
    {
     "name": "stdout",
     "output_type": "stream",
     "text": [
      "       movieId                               title  \\\n",
      "0            1                    Toy Story (1995)   \n",
      "1            2                      Jumanji (1995)   \n",
      "2            3             Grumpier Old Men (1995)   \n",
      "3            4            Waiting to Exhale (1995)   \n",
      "4            5  Father of the Bride Part II (1995)   \n",
      "...        ...                                 ...   \n",
      "27273   131254        Kein Bund für's Leben (2007)   \n",
      "27274   131256       Feuer, Eis & Dosenbier (2002)   \n",
      "27275   131258                  The Pirates (2014)   \n",
      "27276   131260                 Rentun Ruusu (2001)   \n",
      "27277   131262                    Innocence (2014)   \n",
      "\n",
      "                                            genres  \n",
      "0      Adventure|Animation|Children|Comedy|Fantasy  \n",
      "1                       Adventure|Children|Fantasy  \n",
      "2                                   Comedy|Romance  \n",
      "3                             Comedy|Drama|Romance  \n",
      "4                                           Comedy  \n",
      "...                                            ...  \n",
      "27273                                       Comedy  \n",
      "27274                                       Comedy  \n",
      "27275                                    Adventure  \n",
      "27276                           (no genres listed)  \n",
      "27277                     Adventure|Fantasy|Horror  \n",
      "\n",
      "[27278 rows x 3 columns]\n"
     ]
    }
   ],
   "source": [
    "df = pd.read_csv(\"movie.csv\")\n",
    "df_df = pd.DataFrame(df)\n",
    "print(df_df)"
   ]
  },
  {
   "cell_type": "code",
   "execution_count": 34,
   "id": "dc169a57",
   "metadata": {},
   "outputs": [
    {
     "name": "stdout",
     "output_type": "stream",
     "text": [
      "<bound method DataFrame.info of        movieId                               title  \\\n",
      "0            1                    Toy Story (1995)   \n",
      "1            2                      Jumanji (1995)   \n",
      "2            3             Grumpier Old Men (1995)   \n",
      "3            4            Waiting to Exhale (1995)   \n",
      "4            5  Father of the Bride Part II (1995)   \n",
      "...        ...                                 ...   \n",
      "27273   131254        Kein Bund für's Leben (2007)   \n",
      "27274   131256       Feuer, Eis & Dosenbier (2002)   \n",
      "27275   131258                  The Pirates (2014)   \n",
      "27276   131260                 Rentun Ruusu (2001)   \n",
      "27277   131262                    Innocence (2014)   \n",
      "\n",
      "                                            genres  \n",
      "0      Adventure|Animation|Children|Comedy|Fantasy  \n",
      "1                       Adventure|Children|Fantasy  \n",
      "2                                   Comedy|Romance  \n",
      "3                             Comedy|Drama|Romance  \n",
      "4                                           Comedy  \n",
      "...                                            ...  \n",
      "27273                                       Comedy  \n",
      "27274                                       Comedy  \n",
      "27275                                    Adventure  \n",
      "27276                           (no genres listed)  \n",
      "27277                     Adventure|Fantasy|Horror  \n",
      "\n",
      "[27278 rows x 3 columns]>\n",
      "   movieId                               title  \\\n",
      "0        1                    Toy Story (1995)   \n",
      "1        2                      Jumanji (1995)   \n",
      "2        3             Grumpier Old Men (1995)   \n",
      "3        4            Waiting to Exhale (1995)   \n",
      "4        5  Father of the Bride Part II (1995)   \n",
      "\n",
      "                                        genres  \n",
      "0  Adventure|Animation|Children|Comedy|Fantasy  \n",
      "1                   Adventure|Children|Fantasy  \n",
      "2                               Comedy|Romance  \n",
      "3                         Comedy|Drama|Romance  \n",
      "4                                       Comedy  \n",
      "(27278, 3)\n"
     ]
    }
   ],
   "source": [
    "# read in the csv file as a pandas dataframe\n",
    "movie = pd.read_csv(\"movie.csv\")\n",
    "print(movie.info)\n",
    "print(movie.head())\n",
    "print(movie.shape)\n"
   ]
  },
  {
   "cell_type": "code",
   "execution_count": 27,
   "id": "c74e4a54",
   "metadata": {},
   "outputs": [
    {
     "name": "stdout",
     "output_type": "stream",
     "text": [
      "   userId  movieId  rating            timestamp\n",
      "0       1        2     3.5  2005-04-02 23:53:47\n",
      "1       1       29     3.5  2005-04-02 23:31:16\n",
      "2       1       32     3.5  2005-04-02 23:33:39\n",
      "3       1       47     3.5  2005-04-02 23:32:07\n",
      "4       1       50     3.5  2005-04-02 23:29:40\n",
      "(20000263, 4)\n"
     ]
    }
   ],
   "source": [
    "rating = pd.read_csv(\"rating.csv\")\n",
    "print(rating.head())\n",
    "print(rating.shape)"
   ]
  },
  {
   "cell_type": "code",
   "execution_count": 28,
   "id": "a5b1fd9e",
   "metadata": {},
   "outputs": [
    {
     "name": "stdout",
     "output_type": "stream",
     "text": [
      "   userId  movieId            tag            timestamp\n",
      "0      18     4141    Mark Waters  2009-04-24 18:19:40\n",
      "1      65      208      dark hero  2013-05-10 01:41:18\n",
      "2      65      353      dark hero  2013-05-10 01:41:19\n",
      "3      65      521  noir thriller  2013-05-10 01:39:43\n",
      "4      65      592      dark hero  2013-05-10 01:41:18\n",
      "(465564, 4)\n"
     ]
    }
   ],
   "source": [
    "tag = pd.read_csv(\"tag.csv\")\n",
    "print(tag.head())\n",
    "print(tag.shape)"
   ]
  },
  {
   "cell_type": "code",
   "execution_count": 30,
   "id": "e047f8ed",
   "metadata": {},
   "outputs": [
    {
     "name": "stdout",
     "output_type": "stream",
     "text": [
      "   movieId  imdbId   tmdbId\n",
      "0        1  114709    862.0\n",
      "1        2  113497   8844.0\n",
      "2        3  113228  15602.0\n",
      "3        4  114885  31357.0\n",
      "4        5  113041  11862.0\n",
      "(27278, 3)\n"
     ]
    }
   ],
   "source": [
    "link = pd.read_csv(\"link.csv\")\n",
    "print(link.head())\n",
    "print(link.shape)"
   ]
  },
  {
   "cell_type": "code",
   "execution_count": 31,
   "id": "950f426f",
   "metadata": {},
   "outputs": [
    {
     "name": "stdout",
     "output_type": "stream",
     "text": [
      "   tagId           tag\n",
      "0      1           007\n",
      "1      2  007 (series)\n",
      "2      3  18th century\n",
      "3      4         1920s\n",
      "4      5         1930s\n",
      "(1128, 2)\n"
     ]
    }
   ],
   "source": [
    "genome_tags = pd.read_csv(\"genome_tags.csv\")\n",
    "print(genome_tags.head())\n",
    "print(genome_tags.shape)"
   ]
  },
  {
   "cell_type": "code",
   "execution_count": 32,
   "id": "edb5f21a",
   "metadata": {},
   "outputs": [
    {
     "name": "stdout",
     "output_type": "stream",
     "text": [
      "          movieId  tagId  relevance\n",
      "0               1      1    0.02500\n",
      "1               1      2    0.02500\n",
      "2               1      3    0.05775\n",
      "3               1      4    0.09675\n",
      "4               1      5    0.14675\n",
      "...           ...    ...        ...\n",
      "11709763   131170   1124    0.58775\n",
      "11709764   131170   1125    0.01075\n",
      "11709765   131170   1126    0.01575\n",
      "11709766   131170   1127    0.11450\n",
      "11709767   131170   1128    0.02175\n",
      "\n",
      "[11709768 rows x 3 columns]\n",
      "(11709768, 3)\n"
     ]
    }
   ],
   "source": [
    "genome_scores = pd.read_csv(\"genome_scores.csv\")\n",
    "print(genome_scores)\n",
    "print(genome_scores.shape)"
   ]
  },
  {
   "cell_type": "code",
   "execution_count": null,
   "id": "bfec193c",
   "metadata": {},
   "outputs": [],
   "source": []
  }
 ],
 "metadata": {
  "kernelspec": {
   "display_name": "Python 3 (ipykernel)",
   "language": "python",
   "name": "python3"
  },
  "language_info": {
   "codemirror_mode": {
    "name": "ipython",
    "version": 3
   },
   "file_extension": ".py",
   "mimetype": "text/x-python",
   "name": "python",
   "nbconvert_exporter": "python",
   "pygments_lexer": "ipython3",
   "version": "3.11.5"
  }
 },
 "nbformat": 4,
 "nbformat_minor": 5
}
