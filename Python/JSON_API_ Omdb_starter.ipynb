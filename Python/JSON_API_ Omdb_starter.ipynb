{
 "cells": [
  {
   "cell_type": "markdown",
   "metadata": {
    "id": "iB1cyMZaoLMG"
   },
   "source": [
    "# From Web API in JSON Format to Pandas with Python"
   ]
  },
  {
   "cell_type": "markdown",
   "metadata": {
    "id": "30_i3EvOuUC4"
   },
   "source": [
    "Credits and References:\n",
    "- By: Justin Chae | @justinhchae | https://medium.com/@jhc154 | https://www.linkedin.com/in/justin-chae\n",
    "- https://colab.research.google.com/drive/1yD3aOCI4XFrfpBqNXlxStU5veRPHvaL0?usp=sharing\n",
    "- https://plainenglish.io/blog/from-api-to-pandas-getting-json-data-with-python-df127f699b6b"
   ]
  },
  {
   "cell_type": "markdown",
   "metadata": {},
   "source": [
    "- https://medium.com/swlh/handle-json-data-using-json-and-pandas-in-python-9ff6bbd0d356\n",
    "- https://opendata.dc.gov/\n",
    "(Go to API explorer of the chosen dataset and select the Query URL)"
   ]
  },
  {
   "cell_type": "markdown",
   "metadata": {},
   "source": [
    "- https://medium.com/@technige/what-does-requests-offer-over-urllib3-in-2022-e6a38d9273d9\n",
    "- https://www.zenrows.com/blog/urllib3-vs-requests#feature-comparison"
   ]
  },
  {
   "cell_type": "markdown",
   "metadata": {
    "id": "6-UkYDVtesTA"
   },
   "source": [
    "An example of getting JSON data from an Open Data site with Python into a Pandas Dataframe."
   ]
  },
  {
   "cell_type": "markdown",
   "metadata": {
    "id": "9PA56D_no160"
   },
   "source": [
    "# **Step 0 - Import and Install Libraries**"
   ]
  },
  {
   "cell_type": "code",
   "execution_count": 9,
   "metadata": {},
   "outputs": [
    {
     "name": "stdout",
     "output_type": "stream",
     "text": [
      "Requirement already satisfied: certifi in c:\\users\\user\\anaconda3\\lib\\site-packages (2024.7.4)\n"
     ]
    }
   ],
   "source": [
    "#do this if needed.\n",
    "!pip install certifi"
   ]
  },
  {
   "cell_type": "code",
   "execution_count": 1,
   "metadata": {
    "id": "vWaIXmSlTTqr"
   },
   "outputs": [],
   "source": [
    "# urllib3 is a powerful, user-friendly HTTP client for Python\n",
    "# to handle  data retrieval\n",
    "import urllib3\n",
    "from urllib3 import request\n",
    "\n",
    "# to handle certificate verification\n",
    "import certifi\n",
    "\n",
    "# to manage json data\n",
    "import json\n",
    "\n",
    "# for pandas dataframes\n",
    "import pandas as pd"
   ]
  },
  {
   "cell_type": "markdown",
   "metadata": {
    "id": "ZO9FAAdR5cwJ"
   },
   "source": [
    "# **Step 1 - Set Up Handler for Certificates and SSL Warnings**"
   ]
  },
  {
   "cell_type": "code",
   "execution_count": 2,
   "metadata": {
    "id": "xWDlZNX-RurY"
   },
   "outputs": [],
   "source": [
    "# handle certificate verification and SSL warnings:\n",
    "# reference https://urllib3.readthedocs.io/en/latest/user-guide.html#ssl\n",
    "\n",
    "http = urllib3.PoolManager(\n",
    "    cert_reqs='CERT_REQUIRED',\n",
    "    ca_certs=certifi.where())\n",
    "\n",
    "# Creating a PoolManager instance for sending requests with outout any verification or warning handlings\n",
    "#http = urllib3.PoolManager()"
   ]
  },
  {
   "cell_type": "code",
   "execution_count": 3,
   "metadata": {},
   "outputs": [
    {
     "data": {
      "text/plain": [
       "urllib3.poolmanager.PoolManager"
      ]
     },
     "execution_count": 3,
     "metadata": {},
     "output_type": "execute_result"
    }
   ],
   "source": [
    "type(http)"
   ]
  },
  {
   "cell_type": "markdown",
   "metadata": {
    "id": "jqhzfuvRpJ1F"
   },
   "source": [
    "# **Step 2 - Get Data from Web API with Requests**"
   ]
  },
  {
   "cell_type": "code",
   "execution_count": 4,
   "metadata": {
    "colab": {
     "base_uri": "https://localhost:8080/"
    },
    "id": "wGkMg5j6Ruwg",
    "outputId": "946c723f-b661-47ba-f8d3-6fac06f6e5c1"
   },
   "outputs": [
    {
     "data": {
      "text/plain": [
       "200"
      ]
     },
     "execution_count": 4,
     "metadata": {},
     "output_type": "execute_result"
    }
   ],
   "source": [
    "# get data from the API; replace url with target source\n",
    "url = 'http://www.omdbapi.com/?i=tt3896198&apikey=65f6f8c5'\n",
    "\n",
    "r = http.request('GET', url)\n",
    "r.status"
   ]
  },
  {
   "cell_type": "markdown",
   "metadata": {
    "id": "QnSEg68T8GKC"
   },
   "source": [
    "# **Step 3 - Decode JSON Data to a Dict**"
   ]
  },
  {
   "cell_type": "code",
   "execution_count": 5,
   "metadata": {
    "scrolled": true
   },
   "outputs": [
    {
     "data": {
      "text/plain": [
       "str"
      ]
     },
     "execution_count": 5,
     "metadata": {},
     "output_type": "execute_result"
    }
   ],
   "source": [
    "type(r.data.decode('utf-8'))"
   ]
  },
  {
   "cell_type": "code",
   "execution_count": 6,
   "metadata": {
    "id": "-9R0t_RzUbFb"
   },
   "outputs": [
    {
     "data": {
      "text/plain": [
       "dict"
      ]
     },
     "execution_count": 6,
     "metadata": {},
     "output_type": "execute_result"
    }
   ],
   "source": [
    "# decode json data/string into a Python dict object\n",
    "data = json.loads(r.data.decode('utf-8'))\n",
    "\n",
    "type(data)"
   ]
  },
  {
   "cell_type": "code",
   "execution_count": 7,
   "metadata": {
    "scrolled": true
   },
   "outputs": [
    {
     "data": {
      "text/plain": [
       "{'Title': 'Guardians of the Galaxy Vol. 2',\n",
       " 'Year': '2017',\n",
       " 'Rated': 'PG-13',\n",
       " 'Released': '05 May 2017',\n",
       " 'Runtime': '136 min',\n",
       " 'Genre': 'Action, Adventure, Comedy',\n",
       " 'Director': 'James Gunn',\n",
       " 'Writer': 'James Gunn, Dan Abnett, Andy Lanning',\n",
       " 'Actors': 'Chris Pratt, Zoe Saldana, Dave Bautista',\n",
       " 'Plot': \"The Guardians struggle to keep together as a team while dealing with their personal family issues, notably Star-Lord's encounter with his father, the ambitious celestial being Ego.\",\n",
       " 'Language': 'English',\n",
       " 'Country': 'United States',\n",
       " 'Awards': 'Nominated for 1 Oscar. 15 wins & 60 nominations total',\n",
       " 'Poster': 'https://m.media-amazon.com/images/M/MV5BNjM0NTc0NzItM2FlYS00YzEwLWE0YmUtNTA2ZWIzODc2OTgxXkEyXkFqcGdeQXVyNTgwNzIyNzg@._V1_SX300.jpg',\n",
       " 'Ratings': [{'Source': 'Internet Movie Database', 'Value': '7.6/10'},\n",
       "  {'Source': 'Rotten Tomatoes', 'Value': '85%'},\n",
       "  {'Source': 'Metacritic', 'Value': '67/100'}],\n",
       " 'Metascore': '67',\n",
       " 'imdbRating': '7.6',\n",
       " 'imdbVotes': '768,933',\n",
       " 'imdbID': 'tt3896198',\n",
       " 'Type': 'movie',\n",
       " 'DVD': 'N/A',\n",
       " 'BoxOffice': '$389,813,101',\n",
       " 'Production': 'N/A',\n",
       " 'Website': 'N/A',\n",
       " 'Response': 'True'}"
      ]
     },
     "execution_count": 7,
     "metadata": {},
     "output_type": "execute_result"
    }
   ],
   "source": [
    "data"
   ]
  },
  {
   "cell_type": "code",
   "execution_count": 14,
   "metadata": {},
   "outputs": [
    {
     "data": {
      "text/html": [
       "<div>\n",
       "<style scoped>\n",
       "    .dataframe tbody tr th:only-of-type {\n",
       "        vertical-align: middle;\n",
       "    }\n",
       "\n",
       "    .dataframe tbody tr th {\n",
       "        vertical-align: top;\n",
       "    }\n",
       "\n",
       "    .dataframe thead th {\n",
       "        text-align: right;\n",
       "    }\n",
       "</style>\n",
       "<table border=\"1\" class=\"dataframe\">\n",
       "  <thead>\n",
       "    <tr style=\"text-align: right;\">\n",
       "      <th></th>\n",
       "      <th>Title</th>\n",
       "      <th>Year</th>\n",
       "      <th>Rated</th>\n",
       "      <th>Released</th>\n",
       "      <th>Runtime</th>\n",
       "      <th>Genre</th>\n",
       "      <th>Director</th>\n",
       "      <th>Writer</th>\n",
       "      <th>Actors</th>\n",
       "      <th>Plot</th>\n",
       "      <th>...</th>\n",
       "      <th>Metascore</th>\n",
       "      <th>imdbRating</th>\n",
       "      <th>imdbVotes</th>\n",
       "      <th>imdbID</th>\n",
       "      <th>Type</th>\n",
       "      <th>DVD</th>\n",
       "      <th>BoxOffice</th>\n",
       "      <th>Production</th>\n",
       "      <th>Website</th>\n",
       "      <th>Response</th>\n",
       "    </tr>\n",
       "  </thead>\n",
       "  <tbody>\n",
       "    <tr>\n",
       "      <th>0</th>\n",
       "      <td>Guardians of the Galaxy Vol. 2</td>\n",
       "      <td>2017</td>\n",
       "      <td>PG-13</td>\n",
       "      <td>05 May 2017</td>\n",
       "      <td>136 min</td>\n",
       "      <td>Action, Adventure, Comedy</td>\n",
       "      <td>James Gunn</td>\n",
       "      <td>James Gunn, Dan Abnett, Andy Lanning</td>\n",
       "      <td>Chris Pratt, Zoe Saldana, Dave Bautista</td>\n",
       "      <td>The Guardians struggle to keep together as a t...</td>\n",
       "      <td>...</td>\n",
       "      <td>67</td>\n",
       "      <td>7.6</td>\n",
       "      <td>768,933</td>\n",
       "      <td>tt3896198</td>\n",
       "      <td>movie</td>\n",
       "      <td>N/A</td>\n",
       "      <td>$389,813,101</td>\n",
       "      <td>N/A</td>\n",
       "      <td>N/A</td>\n",
       "      <td>True</td>\n",
       "    </tr>\n",
       "    <tr>\n",
       "      <th>1</th>\n",
       "      <td>Guardians of the Galaxy Vol. 2</td>\n",
       "      <td>2017</td>\n",
       "      <td>PG-13</td>\n",
       "      <td>05 May 2017</td>\n",
       "      <td>136 min</td>\n",
       "      <td>Action, Adventure, Comedy</td>\n",
       "      <td>James Gunn</td>\n",
       "      <td>James Gunn, Dan Abnett, Andy Lanning</td>\n",
       "      <td>Chris Pratt, Zoe Saldana, Dave Bautista</td>\n",
       "      <td>The Guardians struggle to keep together as a t...</td>\n",
       "      <td>...</td>\n",
       "      <td>67</td>\n",
       "      <td>7.6</td>\n",
       "      <td>768,933</td>\n",
       "      <td>tt3896198</td>\n",
       "      <td>movie</td>\n",
       "      <td>N/A</td>\n",
       "      <td>$389,813,101</td>\n",
       "      <td>N/A</td>\n",
       "      <td>N/A</td>\n",
       "      <td>True</td>\n",
       "    </tr>\n",
       "    <tr>\n",
       "      <th>2</th>\n",
       "      <td>Guardians of the Galaxy Vol. 2</td>\n",
       "      <td>2017</td>\n",
       "      <td>PG-13</td>\n",
       "      <td>05 May 2017</td>\n",
       "      <td>136 min</td>\n",
       "      <td>Action, Adventure, Comedy</td>\n",
       "      <td>James Gunn</td>\n",
       "      <td>James Gunn, Dan Abnett, Andy Lanning</td>\n",
       "      <td>Chris Pratt, Zoe Saldana, Dave Bautista</td>\n",
       "      <td>The Guardians struggle to keep together as a t...</td>\n",
       "      <td>...</td>\n",
       "      <td>67</td>\n",
       "      <td>7.6</td>\n",
       "      <td>768,933</td>\n",
       "      <td>tt3896198</td>\n",
       "      <td>movie</td>\n",
       "      <td>N/A</td>\n",
       "      <td>$389,813,101</td>\n",
       "      <td>N/A</td>\n",
       "      <td>N/A</td>\n",
       "      <td>True</td>\n",
       "    </tr>\n",
       "  </tbody>\n",
       "</table>\n",
       "<p>3 rows × 25 columns</p>\n",
       "</div>"
      ],
      "text/plain": [
       "                            Title  Year  Rated     Released  Runtime  \\\n",
       "0  Guardians of the Galaxy Vol. 2  2017  PG-13  05 May 2017  136 min   \n",
       "1  Guardians of the Galaxy Vol. 2  2017  PG-13  05 May 2017  136 min   \n",
       "2  Guardians of the Galaxy Vol. 2  2017  PG-13  05 May 2017  136 min   \n",
       "\n",
       "                       Genre    Director  \\\n",
       "0  Action, Adventure, Comedy  James Gunn   \n",
       "1  Action, Adventure, Comedy  James Gunn   \n",
       "2  Action, Adventure, Comedy  James Gunn   \n",
       "\n",
       "                                 Writer  \\\n",
       "0  James Gunn, Dan Abnett, Andy Lanning   \n",
       "1  James Gunn, Dan Abnett, Andy Lanning   \n",
       "2  James Gunn, Dan Abnett, Andy Lanning   \n",
       "\n",
       "                                    Actors  \\\n",
       "0  Chris Pratt, Zoe Saldana, Dave Bautista   \n",
       "1  Chris Pratt, Zoe Saldana, Dave Bautista   \n",
       "2  Chris Pratt, Zoe Saldana, Dave Bautista   \n",
       "\n",
       "                                                Plot  ... Metascore  \\\n",
       "0  The Guardians struggle to keep together as a t...  ...        67   \n",
       "1  The Guardians struggle to keep together as a t...  ...        67   \n",
       "2  The Guardians struggle to keep together as a t...  ...        67   \n",
       "\n",
       "  imdbRating imdbVotes     imdbID   Type  DVD     BoxOffice Production  \\\n",
       "0        7.6   768,933  tt3896198  movie  N/A  $389,813,101        N/A   \n",
       "1        7.6   768,933  tt3896198  movie  N/A  $389,813,101        N/A   \n",
       "2        7.6   768,933  tt3896198  movie  N/A  $389,813,101        N/A   \n",
       "\n",
       "  Website Response  \n",
       "0     N/A     True  \n",
       "1     N/A     True  \n",
       "2     N/A     True  \n",
       "\n",
       "[3 rows x 25 columns]"
      ]
     },
     "execution_count": 14,
     "metadata": {},
     "output_type": "execute_result"
    }
   ],
   "source": [
    "pd.DataFrame(data)"
   ]
  },
  {
   "cell_type": "code",
   "execution_count": 18,
   "metadata": {},
   "outputs": [
    {
     "name": "stdout",
     "output_type": "stream",
     "text": [
      "                            Title  Year  Rated     Released  Runtime  \\\n",
      "0  Guardians of the Galaxy Vol. 2  2017  PG-13  05 May 2017  136 min   \n",
      "\n",
      "                       Genre    Director  \\\n",
      "0  Action, Adventure, Comedy  James Gunn   \n",
      "\n",
      "                                 Writer  \\\n",
      "0  James Gunn, Dan Abnett, Andy Lanning   \n",
      "\n",
      "                                    Actors  \\\n",
      "0  Chris Pratt, Zoe Saldana, Dave Bautista   \n",
      "\n",
      "                                                Plot Language        Country  \\\n",
      "0  The Guardians struggle to keep together as a t...  English  United States   \n",
      "\n",
      "                                              Awards  \\\n",
      "0  Nominated for 1 Oscar. 15 wins & 60 nomination...   \n",
      "\n",
      "                                              Poster  \\\n",
      "0  https://m.media-amazon.com/images/M/MV5BNjM0NT...   \n",
      "\n",
      "                                             Ratings Metascore imdbRating  \\\n",
      "0  [{'Source': 'Internet Movie Database', 'Value'...        67        7.6   \n",
      "\n",
      "  imdbVotes     imdbID   Type  DVD     BoxOffice Production Website Response  \n",
      "0   768,933  tt3896198  movie  N/A  $389,813,101        N/A     N/A     True  \n"
     ]
    }
   ],
   "source": [
    "# Create a DataFrame from the data\n",
    "df = pd.DataFrame([data])\n",
    "# Set pandas to display all columns\n",
    "pd.set_option('display.max_columns', None)\n",
    "# Print the DataFrame to see all columns\n",
    "print(df)"
   ]
  },
  {
   "cell_type": "code",
   "execution_count": null,
   "metadata": {},
   "outputs": [],
   "source": []
  },
  {
   "cell_type": "markdown",
   "metadata": {
    "id": "Q8Gjcy3Q8Mde"
   },
   "source": [
    "# **Step 4 - Normalize the data dict into a DataFrame**"
   ]
  },
  {
   "cell_type": "code",
   "execution_count": 16,
   "metadata": {
    "colab": {
     "base_uri": "https://localhost:8080/",
     "height": 742
    },
    "id": "HTaXeBl9WLxV",
    "outputId": "49fa1606-df23-4fe8-d2a8-5bc48397723f"
   },
   "outputs": [
    {
     "data": {
      "text/html": [
       "<div>\n",
       "<style scoped>\n",
       "    .dataframe tbody tr th:only-of-type {\n",
       "        vertical-align: middle;\n",
       "    }\n",
       "\n",
       "    .dataframe tbody tr th {\n",
       "        vertical-align: top;\n",
       "    }\n",
       "\n",
       "    .dataframe thead th {\n",
       "        text-align: right;\n",
       "    }\n",
       "</style>\n",
       "<table border=\"1\" class=\"dataframe\">\n",
       "  <thead>\n",
       "    <tr style=\"text-align: right;\">\n",
       "      <th></th>\n",
       "      <th>Source</th>\n",
       "      <th>Value</th>\n",
       "    </tr>\n",
       "  </thead>\n",
       "  <tbody>\n",
       "    <tr>\n",
       "      <th>0</th>\n",
       "      <td>Internet Movie Database</td>\n",
       "      <td>7.6/10</td>\n",
       "    </tr>\n",
       "    <tr>\n",
       "      <th>1</th>\n",
       "      <td>Rotten Tomatoes</td>\n",
       "      <td>85%</td>\n",
       "    </tr>\n",
       "    <tr>\n",
       "      <th>2</th>\n",
       "      <td>Metacritic</td>\n",
       "      <td>67/100</td>\n",
       "    </tr>\n",
       "  </tbody>\n",
       "</table>\n",
       "</div>"
      ],
      "text/plain": [
       "                    Source   Value\n",
       "0  Internet Movie Database  7.6/10\n",
       "1          Rotten Tomatoes     85%\n",
       "2               Metacritic  67/100"
      ]
     },
     "execution_count": 16,
     "metadata": {},
     "output_type": "execute_result"
    }
   ],
   "source": [
    "# normalize the data dict and read it into a dataframe\n",
    "# in this dataset, the data to extract is under 'Ratings'\n",
    "\n",
    "df = pd.json_normalize(data, 'Ratings')\n",
    "\n",
    "# print the first rows and header of the dataframe\n",
    "df.head(10)"
   ]
  },
  {
   "cell_type": "code",
   "execution_count": 12,
   "metadata": {
    "colab": {
     "base_uri": "https://localhost:8080/"
    },
    "id": "-NEBdcmx_JPR",
    "outputId": "a7ee2266-8d5f-40da-878f-05685818e5d4"
   },
   "outputs": [
    {
     "data": {
      "text/plain": [
       "(3, 2)"
      ]
     },
     "execution_count": 12,
     "metadata": {},
     "output_type": "execute_result"
    }
   ],
   "source": [
    "df.shape"
   ]
  },
  {
   "cell_type": "code",
   "execution_count": null,
   "metadata": {},
   "outputs": [],
   "source": []
  }
 ],
 "metadata": {
  "colab": {
   "provenance": []
  },
  "kernelspec": {
   "display_name": "Python 3 (ipykernel)",
   "language": "python",
   "name": "python3"
  },
  "language_info": {
   "codemirror_mode": {
    "name": "ipython",
    "version": 3
   },
   "file_extension": ".py",
   "mimetype": "text/x-python",
   "name": "python",
   "nbconvert_exporter": "python",
   "pygments_lexer": "ipython3",
   "version": "3.11.5"
  }
 },
 "nbformat": 4,
 "nbformat_minor": 1
}
